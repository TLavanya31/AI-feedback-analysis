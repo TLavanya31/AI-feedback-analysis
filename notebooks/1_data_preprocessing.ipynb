{
 "cells": [
  {
   "cell_type": "code",
   "execution_count": null,
   "id": "4f7840be",
   "metadata": {
    "vscode": {
     "languageId": "plaintext"
    }
   },
   "outputs": [],
   "source": [
    "import pandas as pd, re\n",
    "import nltk\n",
    "from nltk.corpus import stopwords\n",
    "from nltk.stem import WordNetLemmatizer\n",
    "nltk.download('punkt'); nltk.download('stopwords'); nltk.download('wordnet')\n",
    "\n",
    "df = pd.read_csv(\"data/raw/feedbacks.csv\")\n",
    "df.drop_duplicates(subset='text', inplace=True)\n",
    "df.dropna(subset=['text'], inplace=True)\n",
    "\n",
    "def clean_text(s):\n",
    "    s = str(s).lower()\n",
    "    s = re.sub(r'http\\S+','',s)\n",
    "    s = re.sub(r'[^a-z0-9\\s]', ' ', s)\n",
    "    s = re.sub(r'\\s+',' ', s).strip()\n",
    "    return s\n",
    "\n",
    "df['clean_text'] = df['text'].apply(clean_text)\n",
    "\n",
    "stop = set(stopwords.words('english'))\n",
    "lemmatizer = WordNetLemmatizer()\n",
    "\n",
    "def preprocess_tokens(text):\n",
    "    tokens = nltk.word_tokenize(text)\n",
    "    tokens = [lemmatizer.lemmatize(t) for t in tokens if t not in stop and len(t)>1]\n",
    "    return \" \".join(tokens)\n",
    "\n",
    "df['processed'] = df['clean_text'].apply(preprocess_tokens)\n",
    "df.to_csv(\"data/processed/feedbacks_cleaned.csv\", index=False)\n"
   ]
  }
 ],
 "metadata": {
  "language_info": {
   "name": "python"
  }
 },
 "nbformat": 4,
 "nbformat_minor": 5
}
