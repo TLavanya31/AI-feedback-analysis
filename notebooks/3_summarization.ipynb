{
 "cells": [
  {
   "cell_type": "code",
   "execution_count": null,
   "id": "12c3d71f",
   "metadata": {
    "vscode": {
     "languageId": "plaintext"
    }
   },
   "outputs": [],
   "source": [
    "from transformers import pipeline\n",
    "\n",
    "# Load summarization model\n",
    "summarizer = pipeline(\"summarization\", model=\"sshleifer/distilbart-cnn-12-6\")\n",
    "\n",
    "# Read example long feedback\n",
    "with open(\"../data/processed/feedbacks_cleaned.csv\", \"r\", encoding=\"utf-8\") as f:\n",
    "    text = f.read()\n",
    "\n",
    "# Summarize (example with single long feedback)\n",
    "summary = summarizer(text, max_length=60, min_length=20, do_sample=False)[0]['summary_text']\n",
    "print(\"Summary:\\n\", summary)\n",
    "\n"
   ]
  }
 ],
 "metadata": {
  "language_info": {
   "name": "python"
  }
 },
 "nbformat": 4,
 "nbformat_minor": 5
}
